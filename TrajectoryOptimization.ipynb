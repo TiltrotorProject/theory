{
 "cells": [
  {
   "cell_type": "code",
   "execution_count": null,
   "metadata": {
    "vscode": {
     "languageId": "plaintext"
    }
   },
   "outputs": [],
   "source": []
  },
  {
   "cell_type": "markdown",
   "metadata": {},
   "source": [
    "# Trajectory optimization\n",
    "\n",
    "## Pontryagin's minimum principle\n",
    "For more details check lecture 6 of Guidance.\n",
    "Pontryaging minimum principle allow to solve the following type of problem:\n",
    "$$\n",
    "    \\begin{aligned}\n",
    "        \\min_{u} J &= \\int_{0}^{T} L(x(t),u(t)) \\\\\n",
    "        \\text{st } & \n",
    "        \\begin{cases}\n",
    "            \\dot x = f(x,u) \\\\\n",
    "            x(0) = x_0 \\\\\n",
    "            x(T) = x_T\n",
    "        \\end{cases}\n",
    "    \\end{aligned}\n",
    "    \n",
    "$$\n",
    "\n",
    "It states that a necessary condition for trajectory to optimize the here-above problem is to solve the following 2BVP:\n",
    "$$\n",
    "    \\begin{cases}\n",
    "        \\dot x = H_{/\\lambda} \\\\\n",
    "        \\dot \\lambda = - H_{/x} \\\\\n",
    "        0 = H_{/u}\n",
    "    \\end{cases}\n",
    "    \\quad \\text{with }\n",
    "    \\begin{cases}\n",
    "        x(0) = x_0 \\\\\n",
    "        x(T) = x_T\n",
    "    \\end{cases}\n",
    "$$\n",
    "where $H = L + \\lambda^T f$.\n",
    "\n",
    "The here-above 2BVP can be solved using the shooting approach which consist in solving the following optimization problem:\n",
    "$$\n",
    "    \\min_{\\lambda_0} \\; (x(T) - x_T)^2\n",
    "$$\n",
    "where $x(T)$ is obtained by propagating the EOM of the above 2BVP.\n",
    "\n",
    "The here-above optimization is performed by considering the state-transition function of the 2BVP.\n",
    "Consider the system:\n",
    "$$\n",
    "    \\mathcal{S} : \n",
    "    \\begin{cases}\n",
    "        \\dot x = H_{/\\lambda} \\\\\n",
    "        \\dot \\lambda = - H_{/x} \\\\\n",
    "        0 = H_{/u}\n",
    "    \\end{cases}\n",
    "    \\quad \\text{with }\n",
    "    \\begin{cases}\n",
    "        x(0) = x_0 \\\\\n",
    "        \\lambda(0) = \\lambda_T\n",
    "    \\end{cases}\n",
    "$$\n",
    "The state transition function $\\Phi$ is obtained as follows:\n",
    "$$\n",
    "    \\Phi_{x}(x_0,y_0; T) \\text{ obtained by solving } \\mathcal{S} \\text{ for } x \\text{ at time } T \\text{ using } x_0 \\text{ and } y_0 \\text{ as initial condition} \\\\\n",
    "    \\Phi_{\\lambda}(x_0,y_0; T) \\text{ obtained by solving } \\mathcal{S} \\text{ for } x \\text{ at time } T \\text{ using } x_0 \\text{ and } y_0 \\text{ as initial condition}\n",
    "$$\n",
    "\n",
    "It follows that the last optimization problem can be rewritten as:\n",
    "$$\n",
    "    \\min_{\\lambda_0} \\; (x(T) - x_T)^2 = (\\Phi_{x}(\\lambda_0; x_0, T) - x_T)^2\n",
    "$$"
   ]
  }
 ],
 "metadata": {
  "language_info": {
   "name": "python"
  },
  "orig_nbformat": 4
 },
 "nbformat": 4,
 "nbformat_minor": 2
}
